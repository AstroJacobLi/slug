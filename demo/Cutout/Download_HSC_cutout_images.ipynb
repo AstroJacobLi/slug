{
 "cells": [
  {
   "cell_type": "markdown",
   "metadata": {},
   "source": [
    "# This notebook is aimed at download HSC cutout images, with a galaxy catalog provided."
   ]
  },
  {
   "cell_type": "code",
   "execution_count": 1,
   "metadata": {},
   "outputs": [],
   "source": [
    "import os\n",
    "import urllib\n",
    "import urllib2\n",
    "import glob\n",
    "import subprocess\n",
    "import slug\n",
    "\n",
    "import numpy as np\n",
    "\n",
    "import astropy.wcs as wcs\n",
    "from astropy.nddata import Cutout2D\n",
    "from astropy.io import fits\n",
    "from astropy.table import Table, Column"
   ]
  },
  {
   "cell_type": "code",
   "execution_count": 2,
   "metadata": {},
   "outputs": [],
   "source": [
    "path = './'\n",
    "os.chdir(path)\n",
    "if not os.path.isdir('Cutout'):\n",
    "    os.mkdir('Cutout')"
   ]
  },
  {
   "cell_type": "markdown",
   "metadata": {},
   "source": [
    "## Import catalog"
   ]
  },
  {
   "cell_type": "code",
   "execution_count": 4,
   "metadata": {},
   "outputs": [],
   "source": [
    "inter_z = Table.read('s16a_massive_z_0.5_logm_11.4_dec_30_for_john.fits', format='fits')\n",
    "z_0203 = inter_z[np.logical_and.reduce([inter_z['z_best']<0.3, inter_z['z_best']>0.0])]\n",
    "z_0304 = inter_z[np.logical_and.reduce([inter_z['z_best']<0.4, inter_z['z_best']>0.3])]\n",
    "z_0405 = inter_z[np.logical_and.reduce([inter_z['z_best']<0.5, inter_z['z_best']>0.4])]"
   ]
  },
  {
   "cell_type": "code",
   "execution_count": 5,
   "metadata": {},
   "outputs": [],
   "source": [
    "#z_0203.write('z_0203.fits', format='fits')\n",
    "#z_0304.write('z_0304.fits', format='fits')\n",
    "#z_0405.write('z_0405.fits', format='fits')"
   ]
  },
  {
   "cell_type": "markdown",
   "metadata": {},
   "source": [
    "## Download cutout for z_0203 subset"
   ]
  },
  {
   "cell_type": "code",
   "execution_count": 6,
   "metadata": {},
   "outputs": [],
   "source": [
    "pixel_scale = 0.168 # arcsec / pixel"
   ]
  },
  {
   "cell_type": "code",
   "execution_count": 7,
   "metadata": {},
   "outputs": [
    {
     "data": {
      "text/plain": [
       "['https://hscdata.mtk.nao.ac.jp/das_quarry/dr2.1/cgi-bin/cutout?ra=351.350680895&dec=-0.94632587174&sw=168.0asec&sh=168.0asec&type=coadd&image=on&mask=on&variance=on&filter=HSC-R&tract=&rerun=s18a_wide']"
      ]
     },
     "execution_count": 7,
     "metadata": {},
     "output_type": "execute_result"
    }
   ],
   "source": [
    "slug.gen_url_hsc_s18a(351.3506808951273, -0.9463258717404696, 1000, 1000, 'r', pixel_unit=True)"
   ]
  },
  {
   "cell_type": "code",
   "execution_count": 8,
   "metadata": {},
   "outputs": [
    {
     "ename": "NameError",
     "evalue": "name 'gen_url' is not defined",
     "output_type": "error",
     "traceback": [
      "\u001b[0;31m---------------------------------------------------------------------------\u001b[0m",
      "\u001b[0;31mNameError\u001b[0m                                 Traceback (most recent call last)",
      "\u001b[0;32m<ipython-input-8-b09039131663>\u001b[0m in \u001b[0;36m<module>\u001b[0;34m()\u001b[0m\n\u001b[1;32m      4\u001b[0m     \u001b[0mw\u001b[0m\u001b[0;34m,\u001b[0m \u001b[0mh\u001b[0m \u001b[0;34m=\u001b[0m \u001b[0;36m100\u001b[0m\u001b[0;34m,\u001b[0m \u001b[0;36m100\u001b[0m\u001b[0;34m\u001b[0m\u001b[0m\n\u001b[1;32m      5\u001b[0m     \u001b[0mband\u001b[0m \u001b[0;34m=\u001b[0m \u001b[0;34m'r'\u001b[0m\u001b[0;34m\u001b[0m\u001b[0m\n\u001b[0;32m----> 6\u001b[0;31m     \u001b[0murl_set\u001b[0m\u001b[0;34m.\u001b[0m\u001b[0mappend\u001b[0m\u001b[0;34m(\u001b[0m\u001b[0mgen_url\u001b[0m\u001b[0;34m(\u001b[0m\u001b[0mra\u001b[0m\u001b[0;34m,\u001b[0m \u001b[0mdec\u001b[0m\u001b[0;34m,\u001b[0m \u001b[0mw\u001b[0m\u001b[0;34m,\u001b[0m \u001b[0mh\u001b[0m\u001b[0;34m,\u001b[0m \u001b[0mband\u001b[0m\u001b[0;34m)\u001b[0m\u001b[0;34m)\u001b[0m\u001b[0;34m\u001b[0m\u001b[0m\n\u001b[0m\u001b[1;32m      7\u001b[0m \u001b[0murl_set\u001b[0m \u001b[0;34m=\u001b[0m \u001b[0mnp\u001b[0m\u001b[0;34m.\u001b[0m\u001b[0marray\u001b[0m\u001b[0;34m(\u001b[0m\u001b[0murl_set\u001b[0m\u001b[0;34m)\u001b[0m\u001b[0;34m.\u001b[0m\u001b[0mflatten\u001b[0m\u001b[0;34m(\u001b[0m\u001b[0;34m)\u001b[0m\u001b[0;34m.\u001b[0m\u001b[0mtolist\u001b[0m\u001b[0;34m(\u001b[0m\u001b[0;34m)\u001b[0m\u001b[0;34m\u001b[0m\u001b[0m\n\u001b[1;32m      8\u001b[0m \u001b[0mz_0203\u001b[0m\u001b[0;34m.\u001b[0m\u001b[0madd_column\u001b[0m\u001b[0;34m(\u001b[0m\u001b[0mColumn\u001b[0m\u001b[0;34m(\u001b[0m\u001b[0mname\u001b[0m\u001b[0;34m=\u001b[0m\u001b[0;34m'url'\u001b[0m\u001b[0;34m,\u001b[0m \u001b[0mdata\u001b[0m\u001b[0;34m=\u001b[0m\u001b[0murl_set\u001b[0m\u001b[0;34m)\u001b[0m\u001b[0;34m)\u001b[0m\u001b[0;34m\u001b[0m\u001b[0m\n",
      "\u001b[0;31mNameError\u001b[0m: name 'gen_url' is not defined"
     ]
    }
   ],
   "source": [
    "url_set = []\n",
    "for obj in z_0203[:5]:\n",
    "    ra, dec = obj['ra'], obj['dec']\n",
    "    w, h = 100, 100\n",
    "    band = 'r'\n",
    "    url_set.append(gen_url(ra, dec, w, h, band))\n",
    "url_set = np.array(url_set).flatten().tolist()\n",
    "z_0203.add_column(Column(name='url', data=url_set))"
   ]
  },
  {
   "cell_type": "code",
   "execution_count": 9,
   "metadata": {},
   "outputs": [],
   "source": [
    "# Write the urls to a file\n",
    "fh = open('filename.txt', 'w')\n",
    "for url in url_set[:3]:\n",
    "    fh.write(url)\n",
    "    fh.write('\\n')\n",
    "fh.close()"
   ]
  },
  {
   "cell_type": "markdown",
   "metadata": {},
   "source": [
    "### Download using urllib"
   ]
  },
  {
   "cell_type": "code",
   "execution_count": 9,
   "metadata": {},
   "outputs": [],
   "source": [
    "# Import HSC username and password\n",
    "config = Table.read('/Users/jiaxuanli/Documents/HSC_config', format='ascii.no_header')['col1']\n",
    "username = config[0]\n",
    "password = config[1]"
   ]
  },
  {
   "cell_type": "code",
   "execution_count": 11,
   "metadata": {},
   "outputs": [],
   "source": [
    "# Create a password manager\n",
    "password_mgr = urllib2.HTTPPasswordMgrWithDefaultRealm()\n",
    "\n",
    "# Add the username and password.\n",
    "# If we knew the realm, we could use it instead of None.\n",
    "top_level_url = 'https://hscdata.mtk.nao.ac.jp/das_quarry/dr2.1/'\n",
    "\n",
    "password_mgr.add_password(None, top_level_url, username, password)\n",
    "\n",
    "handler = urllib2.HTTPBasicAuthHandler(password_mgr)\n",
    "\n",
    "# create \"opener\" (OpenerDirector instance)\n",
    "opener = urllib2.build_opener(handler)\n",
    "\n",
    "# use the opener to fetch a URL\n",
    "opener.open(top_level_url)\n",
    "\n",
    "# Install the opener.\n",
    "# Now all calls to urllib.request.urlopen use our opener.\n",
    "urllib2.install_opener(opener)"
   ]
  },
  {
   "cell_type": "code",
   "execution_count": 12,
   "metadata": {},
   "outputs": [
    {
     "name": "stdout",
     "output_type": "stream",
     "text": [
      "Enter username for hsc-ssp at hscdata.mtk.nao.ac.jp: huangs\n",
      "Enter password for huangs in hsc-ssp at hscdata.mtk.nao.ac.jp: ········\n",
      "CPU times: user 1min 3s, sys: 37.4 s, total: 1min 41s\n",
      "Wall time: 1h 6min 1s\n"
     ]
    }
   ],
   "source": [
    "%%time\n",
    "os.chdir('/Users/jiaxuanli/Research/HSC_Dragonfly_DECaLS/IntermediateZ/Cutout/')\n",
    "if not os.path.isdir('z_0203'):\n",
    "    os.mkdir('z_0203')\n",
    "\n",
    "for obj in z_0203:\n",
    "    \n",
    "    urllib.urlretrieve(\n",
    "        obj['url'],\n",
    "        filename=path + 'Cutout/z_0203/' + 'HSC-cutout-num' + str(obj.index) + '&ra=' + str(round(obj['ra'], 5)) +\n",
    "        '&dec=' + str(round(obj['dec'], 5)) + '&z=' + str(round(obj['z_best'], 5)) +'&band=HSC-r.fits')"
   ]
  },
  {
   "cell_type": "markdown",
   "metadata": {},
   "source": [
    "## In the downloaded `fits` files, layer[1] is image, layer[2] is mask (now empty), and layer[3] is variance."
   ]
  }
 ],
 "metadata": {
  "kernelspec": {
   "display_name": "Python 2",
   "language": "python",
   "name": "python2"
  },
  "language_info": {
   "codemirror_mode": {
    "name": "ipython",
    "version": 2
   },
   "file_extension": ".py",
   "mimetype": "text/x-python",
   "name": "python",
   "nbconvert_exporter": "python",
   "pygments_lexer": "ipython2",
   "version": "2.7.15"
  }
 },
 "nbformat": 4,
 "nbformat_minor": 2
}
