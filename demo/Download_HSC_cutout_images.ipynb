{
 "cells": [
  {
   "cell_type": "markdown",
   "metadata": {},
   "source": [
    "# This notebook is aimed at download HSC cutout images, with a galaxy catalog provided."
   ]
  },
  {
   "cell_type": "code",
   "execution_count": 6,
   "metadata": {},
   "outputs": [],
   "source": [
    "import os\n",
    "import urllib\n",
    "import urllib2\n",
    "import glob\n",
    "import subprocess\n",
    "import slug\n",
    "\n",
    "import numpy as np\n",
    "\n",
    "import astropy.wcs as wcs\n",
    "from astropy.nddata import Cutout2D\n",
    "from astropy.io import fits\n",
    "from astropy.table import Table, Column"
   ]
  },
  {
   "cell_type": "code",
   "execution_count": 2,
   "metadata": {},
   "outputs": [],
   "source": [
    "path = '/Users/jiaxuanli/Research/HSC_Dragonfly_DECaLS/IntermediateZ/'\n",
    "os.chdir(path)\n",
    "if not os.path.isdir('Cutout'):\n",
    "    os.mkdir('Cutout')"
   ]
  },
  {
   "cell_type": "markdown",
   "metadata": {},
   "source": [
    "## Import catalog"
   ]
  },
  {
   "cell_type": "code",
   "execution_count": 3,
   "metadata": {},
   "outputs": [],
   "source": [
    "inter_z = Table.read('s16a_massive_z_0.5_logm_11.4_dec_30_for_john.fits', format='fits')\n",
    "z_0203 = inter_z[np.logical_and.reduce([inter_z['z_best']<0.3, inter_z['z_best']>0.0])]\n",
    "z_0304 = inter_z[np.logical_and.reduce([inter_z['z_best']<0.4, inter_z['z_best']>0.3])]\n",
    "z_0405 = inter_z[np.logical_and.reduce([inter_z['z_best']<0.5, inter_z['z_best']>0.4])]"
   ]
  },
  {
   "cell_type": "code",
   "execution_count": 14,
   "metadata": {},
   "outputs": [
    {
     "data": {
      "text/html": [
       "&lt;Row index=166 masked=True&gt;\n",
       "<table id=\"table4905574352\">\n",
       "<thead><tr><th>id_s16a</th><th>ra</th><th>dec</th><th>z_best</th><th>gcmodel_mag</th><th>gcmodel_mag_err</th><th>rcmodel_mag</th><th>rcmodel_mag_err</th><th>icmodel_mag</th><th>icmodel_mag_err</th><th>zcmodel_mag</th><th>zcmodel_mag_err</th></tr></thead>\n",
       "<thead><tr><th>int64</th><th>float64</th><th>float64</th><th>float64</th><th>float32</th><th>float32</th><th>float32</th><th>float32</th><th>float32</th><th>float32</th><th>float32</th><th>float32</th></tr></thead>\n",
       "<tr><td>43096887259064405</td><td>129.57398030571164</td><td>2.2824743872008777</td><td>0.20983999967575073</td><td>18.591358</td><td>0.0008609678</td><td>17.318272</td><td>0.0005314081</td><td>16.725172</td><td>0.0005404044</td><td>16.398455</td><td>0.0004826826</td></tr>\n",
       "</table>"
      ],
      "text/plain": [
       "<Row index=166 masked=True>\n",
       "     id_s16a              ra                dec                z_best       gcmodel_mag gcmodel_mag_err rcmodel_mag rcmodel_mag_err icmodel_mag icmodel_mag_err zcmodel_mag zcmodel_mag_err\n",
       "      int64            float64            float64             float64         float32       float32       float32       float32       float32       float32       float32       float32    \n",
       "----------------- ------------------ ------------------ ------------------- ----------- --------------- ----------- --------------- ----------- --------------- ----------- ---------------\n",
       "43096887259064405 129.57398030571164 2.2824743872008777 0.20983999967575073   18.591358    0.0008609678   17.318272    0.0005314081   16.725172    0.0005404044   16.398455    0.0004826826"
      ]
     },
     "execution_count": 14,
     "metadata": {},
     "output_type": "execute_result"
    }
   ],
   "source": [
    "Table.read('z_0203.fits', format='fits')[166]"
   ]
  },
  {
   "cell_type": "code",
   "execution_count": 5,
   "metadata": {},
   "outputs": [],
   "source": [
    "#z_0203.write('z_0203.fits', format='fits')\n",
    "#z_0304.write('z_0304.fits', format='fits')\n",
    "#z_0405.write('z_0405.fits', format='fits')"
   ]
  },
  {
   "cell_type": "markdown",
   "metadata": {},
   "source": [
    "## Download cutout for z_0203 subset"
   ]
  },
  {
   "cell_type": "code",
   "execution_count": 6,
   "metadata": {},
   "outputs": [],
   "source": [
    "pixel_scale = 0.168 # arcsec / pixel"
   ]
  },
  {
   "cell_type": "code",
   "execution_count": 10,
   "metadata": {},
   "outputs": [
    {
     "data": {
      "text/plain": [
       "['https://hscdata.mtk.nao.ac.jp/das_quarry/dr2.1/cgi-bin/cutout?ra=351.350680895&dec=-0.94632587174&sw=168.0asec&sh=168.0asec&type=coadd&image=on&mask=on&variance=on&filter=HSC-R&tract=&rerun=s18a_wide']"
      ]
     },
     "execution_count": 10,
     "metadata": {},
     "output_type": "execute_result"
    }
   ],
   "source": [
    "slug.gen_url_hsc_s18a(351.3506808951273, -0.9463258717404696, 1000, 1000, 'r', pixel_unit=True)"
   ]
  },
  {
   "cell_type": "code",
   "execution_count": 8,
   "metadata": {},
   "outputs": [],
   "source": [
    "url_set = []\n",
    "for obj in z_0203:\n",
    "    ra, dec = obj['ra'], obj['dec']\n",
    "    w, h = 100, 100\n",
    "    band = 'r'\n",
    "    url_set.append(gen_url(ra, dec, w, h, band))\n",
    "url_set = np.array(url_set).flatten().tolist()\n",
    "z_0203.add_column(Column(name='url', data=url_set))"
   ]
  },
  {
   "cell_type": "code",
   "execution_count": 9,
   "metadata": {},
   "outputs": [],
   "source": [
    "# Write the urls to a file\n",
    "fh = open('filename.txt', 'w')\n",
    "for url in url_set[:3]:\n",
    "    fh.write(url)\n",
    "    fh.write('\\n')\n",
    "fh.close()"
   ]
  },
  {
   "cell_type": "markdown",
   "metadata": {},
   "source": [
    "### Download using urllib"
   ]
  },
  {
   "cell_type": "code",
   "execution_count": 10,
   "metadata": {},
   "outputs": [],
   "source": [
    "# Import HSC username and password\n",
    "config = Table.read('/Users/jiaxuanli/Documents/HSC_config', format='ascii.no_header')['col1']\n",
    "username = config[0]\n",
    "password = config[1]"
   ]
  },
  {
   "cell_type": "code",
   "execution_count": 11,
   "metadata": {},
   "outputs": [],
   "source": [
    "# Create a password manager\n",
    "password_mgr = urllib2.HTTPPasswordMgrWithDefaultRealm()\n",
    "\n",
    "# Add the username and password.\n",
    "# If we knew the realm, we could use it instead of None.\n",
    "top_level_url = 'https://hscdata.mtk.nao.ac.jp/das_quarry/dr2.1/'\n",
    "\n",
    "password_mgr.add_password(None, top_level_url, username, password)\n",
    "\n",
    "handler = urllib2.HTTPBasicAuthHandler(password_mgr)\n",
    "\n",
    "# create \"opener\" (OpenerDirector instance)\n",
    "opener = urllib2.build_opener(handler)\n",
    "\n",
    "# use the opener to fetch a URL\n",
    "opener.open(top_level_url)\n",
    "\n",
    "# Install the opener.\n",
    "# Now all calls to urllib.request.urlopen use our opener.\n",
    "urllib2.install_opener(opener)"
   ]
  },
  {
   "cell_type": "code",
   "execution_count": 12,
   "metadata": {},
   "outputs": [
    {
     "name": "stdout",
     "output_type": "stream",
     "text": [
      "Enter username for hsc-ssp at hscdata.mtk.nao.ac.jp: huangs\n",
      "Enter password for huangs in hsc-ssp at hscdata.mtk.nao.ac.jp: ········\n",
      "CPU times: user 1min 3s, sys: 37.4 s, total: 1min 41s\n",
      "Wall time: 1h 6min 1s\n"
     ]
    }
   ],
   "source": [
    "%%time\n",
    "os.chdir('/Users/jiaxuanli/Research/HSC_Dragonfly_DECaLS/IntermediateZ/Cutout/')\n",
    "if not os.path.isdir('z_0203'):\n",
    "    os.mkdir('z_0203')\n",
    "\n",
    "for obj in z_0203:\n",
    "    \n",
    "    urllib.urlretrieve(\n",
    "        obj['url'],\n",
    "        filename=path + 'Cutout/z_0203/' + 'HSC-cutout-num' + str(obj.index) + '&ra=' + str(round(obj['ra'], 5)) +\n",
    "        '&dec=' + str(round(obj['dec'], 5)) + '&z=' + str(round(obj['z_best'], 5)) +'&band=HSC-r.fits')"
   ]
  },
  {
   "cell_type": "markdown",
   "metadata": {},
   "source": [
    "## In the downloaded `fits` files, layer[1] is image, layer[2] is mask (now empty), and layer[3] is variance."
   ]
  }
 ],
 "metadata": {
  "kernelspec": {
   "display_name": "Python 2",
   "language": "python",
   "name": "python2"
  },
  "language_info": {
   "codemirror_mode": {
    "name": "ipython",
    "version": 2
   },
   "file_extension": ".py",
   "mimetype": "text/x-python",
   "name": "python",
   "nbconvert_exporter": "python",
   "pygments_lexer": "ipython2",
   "version": "2.7.15"
  }
 },
 "nbformat": 4,
 "nbformat_minor": 2
}
