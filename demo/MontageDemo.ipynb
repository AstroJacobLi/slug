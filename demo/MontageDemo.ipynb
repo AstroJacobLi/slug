{
 "cells": [
  {
   "cell_type": "markdown",
   "metadata": {},
   "source": [
    "# Generate SDSS coadd images using [`montage`](http://montage.ipac.caltech.edu)\n",
    "### If MONTAGE doesn't work, put the following command into the terminal and restart a new jupyter notebook server from that terminal.\n",
    "`export PATH=\"${PATH}:/Users/jiaxuanli/Research/Packages/Montage/bin:\"`"
   ]
  },
  {
   "cell_type": "code",
   "execution_count": null,
   "metadata": {},
   "outputs": [],
   "source": [
    "import montage_wrapper as montage\n",
    "import glob, os"
   ]
  },
  {
   "cell_type": "code",
   "execution_count": null,
   "metadata": {},
   "outputs": [],
   "source": [
    "for obj in obj_cat[:1]:\n",
    "    band = 'r'\n",
    "    size = 300 / slug.phys_size(obj['Z'], is_print=False) / 3600  # in degrees\n",
    "    montage.mHdr(str(obj['RA']) + ' ' + str(obj['Dec']), size, 'SDSS-lowz-' + ('%04d' % obj['Index']) + '.hdr',\n",
    "                 pix_size=slug.SDSS_pixel_scale)\n",
    "    montage.mExec('SDSS', band, \n",
    "                  output_image='SDSS-lowz-' + ('%04d' % obj['Index']) + '-' + band + '.fits', \n",
    "                  region_header='SDSS-lowz-' + ('%04d' % obj['Index']) + '.hdr',\n",
    "                  header='SDSS-lowz-' + ('%04d' % obj['Index']) + '.hdr')"
   ]
  }
 ],
 "metadata": {
  "kernelspec": {
   "display_name": "Python 3",
   "language": "python",
   "name": "python3"
  },
  "language_info": {
   "codemirror_mode": {
    "name": "ipython",
    "version": 3
   },
   "file_extension": ".py",
   "mimetype": "text/x-python",
   "name": "python",
   "nbconvert_exporter": "python",
   "pygments_lexer": "ipython3",
   "version": "3.6.6"
  }
 },
 "nbformat": 4,
 "nbformat_minor": 2
}
